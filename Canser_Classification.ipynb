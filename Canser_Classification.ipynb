{
 "cells": [
  {
   "cell_type": "code",
   "execution_count": 16,
   "id": "2236573b",
   "metadata": {},
   "outputs": [],
   "source": [
    "import numpy as np\n",
    "import pandas as pd\n",
    "import matplotlib.pyplot as plt\n",
    "import seaborn as sns\n",
    "from sklearn.datasets import load_breast_cancer\n",
    "from sklearn.model_selection import train_test_split\n",
    "from sklearn.preprocessing import StandardScaler\n",
    "from sklearn.metrics import accuracy_score, confusion_matrix, classification_report, roc_curve, auc\n",
    "from sklearn.model_selection import train_test_split, GridSearchCV\n",
    "from sklearn.svm import SVC\n",
    "from keras import Sequential\n",
    "from sklearn.neural_network import MLPClassifier\n",
    "from sklearn.model_selection import cross_val_score\n"
   ]
  },
  {
   "cell_type": "markdown",
   "id": "514d331b",
   "metadata": {},
   "source": [
    "### Load and Preprocess Cancer Dataset\n",
    "\n",
    "This code loads the dataset, drops irrelevant columns, and maps the diagnosis labels:\n",
    "- `'M'` to `1` (Malignant)\n",
    "- `'B'` to `0` (Benign)"
   ]
  },
  {
   "cell_type": "code",
   "execution_count": 3,
   "id": "bea28f17",
   "metadata": {},
   "outputs": [],
   "source": [
    "df = pd.read_csv(\"D:/Web_learning/js_Elzero/canser/data.csv\")\n",
    "df = df.drop(['Unnamed: 32', 'id'], axis=1)\n",
    "df['diagnosis'] = df['diagnosis'].map({'M': 1 , 'B': 0})"
   ]
  },
  {
   "cell_type": "markdown",
   "id": "998a2dff",
   "metadata": {},
   "source": [
    "### Displaying the First Rows and Checking for Missing Values\n",
    "\n",
    "- `df.head()` shows the first five rows of the dataset.\n",
    "- `df.isnull().sum()` checks for missing values in each column.\n"
   ]
  },
  {
   "cell_type": "code",
   "execution_count": 7,
   "id": "bba26169",
   "metadata": {},
   "outputs": [
    {
     "name": "stdout",
     "output_type": "stream",
     "text": [
      "   diagnosis  radius_mean  texture_mean  perimeter_mean  area_mean  \\\n",
      "0          1        17.99         10.38          122.80     1001.0   \n",
      "1          1        20.57         17.77          132.90     1326.0   \n",
      "2          1        19.69         21.25          130.00     1203.0   \n",
      "3          1        11.42         20.38           77.58      386.1   \n",
      "4          1        20.29         14.34          135.10     1297.0   \n",
      "\n",
      "   smoothness_mean  compactness_mean  concavity_mean  concave points_mean  \\\n",
      "0          0.11840           0.27760          0.3001              0.14710   \n",
      "1          0.08474           0.07864          0.0869              0.07017   \n",
      "2          0.10960           0.15990          0.1974              0.12790   \n",
      "3          0.14250           0.28390          0.2414              0.10520   \n",
      "4          0.10030           0.13280          0.1980              0.10430   \n",
      "\n",
      "   symmetry_mean  ...  radius_worst  texture_worst  perimeter_worst  \\\n",
      "0         0.2419  ...         25.38          17.33           184.60   \n",
      "1         0.1812  ...         24.99          23.41           158.80   \n",
      "2         0.2069  ...         23.57          25.53           152.50   \n",
      "3         0.2597  ...         14.91          26.50            98.87   \n",
      "4         0.1809  ...         22.54          16.67           152.20   \n",
      "\n",
      "   area_worst  smoothness_worst  compactness_worst  concavity_worst  \\\n",
      "0      2019.0            0.1622             0.6656           0.7119   \n",
      "1      1956.0            0.1238             0.1866           0.2416   \n",
      "2      1709.0            0.1444             0.4245           0.4504   \n",
      "3       567.7            0.2098             0.8663           0.6869   \n",
      "4      1575.0            0.1374             0.2050           0.4000   \n",
      "\n",
      "   concave points_worst  symmetry_worst  fractal_dimension_worst  \n",
      "0                0.2654          0.4601                  0.11890  \n",
      "1                0.1860          0.2750                  0.08902  \n",
      "2                0.2430          0.3613                  0.08758  \n",
      "3                0.2575          0.6638                  0.17300  \n",
      "4                0.1625          0.2364                  0.07678  \n",
      "\n",
      "[5 rows x 31 columns]\n",
      "diagnosis                  0\n",
      "radius_mean                0\n",
      "texture_mean               0\n",
      "perimeter_mean             0\n",
      "area_mean                  0\n",
      "smoothness_mean            0\n",
      "compactness_mean           0\n",
      "concavity_mean             0\n",
      "concave points_mean        0\n",
      "symmetry_mean              0\n",
      "fractal_dimension_mean     0\n",
      "radius_se                  0\n",
      "texture_se                 0\n",
      "perimeter_se               0\n",
      "area_se                    0\n",
      "smoothness_se              0\n",
      "compactness_se             0\n",
      "concavity_se               0\n",
      "concave points_se          0\n",
      "symmetry_se                0\n",
      "fractal_dimension_se       0\n",
      "radius_worst               0\n",
      "texture_worst              0\n",
      "perimeter_worst            0\n",
      "area_worst                 0\n",
      "smoothness_worst           0\n",
      "compactness_worst          0\n",
      "concavity_worst            0\n",
      "concave points_worst       0\n",
      "symmetry_worst             0\n",
      "fractal_dimension_worst    0\n",
      "dtype: int64\n"
     ]
    }
   ],
   "source": [
    "print(df.head())\n",
    "print(df.isnull().sum())  \n"
   ]
  },
  {
   "cell_type": "markdown",
   "id": "ecd02745",
   "metadata": {},
   "source": [
    "### Sorted Correlation with Target Variable\n",
    "\n",
    "This code computes and displays the correlation of all numerical features with the target variable (`diagnosis`), sorted from highest to lowest.\n"
   ]
  },
  {
   "cell_type": "code",
   "execution_count": null,
   "id": "0eab4358",
   "metadata": {},
   "outputs": [
    {
     "name": "stdout",
     "output_type": "stream",
     "text": [
      "diagnosis                  1.000000\n",
      "concave points_worst       0.793566\n",
      "perimeter_worst            0.782914\n",
      "concave points_mean        0.776614\n",
      "radius_worst               0.776454\n",
      "perimeter_mean             0.742636\n",
      "area_worst                 0.733825\n",
      "radius_mean                0.730029\n",
      "area_mean                  0.708984\n",
      "concavity_mean             0.696360\n",
      "concavity_worst            0.659610\n",
      "compactness_mean           0.596534\n",
      "compactness_worst          0.590998\n",
      "radius_se                  0.567134\n",
      "perimeter_se               0.556141\n",
      "area_se                    0.548236\n",
      "texture_worst              0.456903\n",
      "smoothness_worst           0.421465\n",
      "symmetry_worst             0.416294\n",
      "texture_mean               0.415185\n",
      "concave points_se          0.408042\n",
      "smoothness_mean            0.358560\n",
      "symmetry_mean              0.330499\n",
      "fractal_dimension_worst    0.323872\n",
      "compactness_se             0.292999\n",
      "concavity_se               0.253730\n",
      "fractal_dimension_se       0.077972\n",
      "symmetry_se               -0.006522\n",
      "texture_se                -0.008303\n",
      "fractal_dimension_mean    -0.012838\n",
      "smoothness_se             -0.067016\n",
      "Name: diagnosis, dtype: float64\n"
     ]
    }
   ],
   "source": [
    "\n",
    "correlation_with_target = df.corr(numeric_only=True)['diagnosis'].sort_values(ascending=False)\n",
    "\n",
    "print(correlation_with_target)\n"
   ]
  },
  {
   "cell_type": "markdown",
   "id": "64ec036f",
   "metadata": {},
   "source": [
    "### Feature Selection and Target Definition\n",
    "\n",
    "We select the most relevant features based on their correlation with the target variable `diagnosis`, and define:\n",
    "- `X` as the feature matrix (selected features)\n",
    "- `y` as the target vector (`diagn\n"
   ]
  },
  {
   "cell_type": "code",
   "execution_count": 19,
   "id": "c36e87f0",
   "metadata": {},
   "outputs": [],
   "source": [
    "sf = [\n",
    "    'radius_mean',              \n",
    "    'perimeter_mean',     \n",
    "    'area_mean',                \n",
    "    'concavity_mean',       \n",
    "    'concave points_mean',  \n",
    "    'radius_worst',         \n",
    "    'perimeter_worst',\n",
    "    'area_worst',           \n",
    "    'concave points_worst'  \n",
    "] \n",
    "\n",
    "X= df[sf]\n",
    "y = df['diagnosis']"
   ]
  },
  {
   "cell_type": "code",
   "execution_count": null,
   "id": "83c9adc8",
   "metadata": {},
   "outputs": [],
   "source": []
  },
  {
   "cell_type": "code",
   "execution_count": null,
   "id": "81f1a1c9",
   "metadata": {},
   "outputs": [],
   "source": []
  },
  {
   "cell_type": "markdown",
   "id": "765c380d",
   "metadata": {},
   "source": [
    "### Model Training and Evaluation with Different SVM Kernels\n",
    "\n",
    "We scale the features, split the data into training and test sets, and evaluate the performance of a Support Vector Machine (SVM) with different kernels: \n",
    "- `linear`\n",
    "- `poly` \n",
    "- `rbf`\n",
    "- `sigmoid`\n",
    "\n",
    "For each kernel, we calculate and display the accuracy, confusion matrix, and classification report.\n"
   ]
  },
  {
   "cell_type": "code",
   "execution_count": 13,
   "id": "a3bad4a0",
   "metadata": {},
   "outputs": [
    {
     "name": "stdout",
     "output_type": "stream",
     "text": [
      "\n",
      "Kernel: linear\n",
      "Accuracy: 0.9766081871345029\n",
      "Confusion Matrix:\n",
      " [[107   1]\n",
      " [  3  60]]\n",
      "Classification Report:\n",
      "               precision    recall  f1-score   support\n",
      "\n",
      "           0       0.97      0.99      0.98       108\n",
      "           1       0.98      0.95      0.97        63\n",
      "\n",
      "    accuracy                           0.98       171\n",
      "   macro avg       0.98      0.97      0.97       171\n",
      "weighted avg       0.98      0.98      0.98       171\n",
      "\n",
      "\n",
      "Kernel: poly\n",
      "Accuracy: 0.8947368421052632\n",
      "Confusion Matrix:\n",
      " [[108   0]\n",
      " [ 18  45]]\n",
      "Classification Report:\n",
      "               precision    recall  f1-score   support\n",
      "\n",
      "           0       0.86      1.00      0.92       108\n",
      "           1       1.00      0.71      0.83        63\n",
      "\n",
      "    accuracy                           0.89       171\n",
      "   macro avg       0.93      0.86      0.88       171\n",
      "weighted avg       0.91      0.89      0.89       171\n",
      "\n",
      "\n",
      "Kernel: rbf\n",
      "Accuracy: 0.9532163742690059\n",
      "Confusion Matrix:\n",
      " [[106   2]\n",
      " [  6  57]]\n",
      "Classification Report:\n",
      "               precision    recall  f1-score   support\n",
      "\n",
      "           0       0.95      0.98      0.96       108\n",
      "           1       0.97      0.90      0.93        63\n",
      "\n",
      "    accuracy                           0.95       171\n",
      "   macro avg       0.96      0.94      0.95       171\n",
      "weighted avg       0.95      0.95      0.95       171\n",
      "\n",
      "\n",
      "Kernel: sigmoid\n",
      "Accuracy: 0.9532163742690059\n",
      "Confusion Matrix:\n",
      " [[103   5]\n",
      " [  3  60]]\n",
      "Classification Report:\n",
      "               precision    recall  f1-score   support\n",
      "\n",
      "           0       0.97      0.95      0.96       108\n",
      "           1       0.92      0.95      0.94        63\n",
      "\n",
      "    accuracy                           0.95       171\n",
      "   macro avg       0.95      0.95      0.95       171\n",
      "weighted avg       0.95      0.95      0.95       171\n",
      "\n"
     ]
    }
   ],
   "source": [
    "\n",
    "scaler = StandardScaler()\n",
    "X_scaled = scaler.fit_transform(X)\n",
    "\n",
    "\n",
    "X_train, X_test, y_train, y_test = train_test_split(X_scaled, y, test_size=0.3, random_state=42)\n",
    "\n",
    "\n",
    "\n",
    "kernels = ['linear', 'poly', 'rbf','sigmoid']\n",
    "for kernel in kernels:\n",
    "    svm = SVC(kernel=kernel, probability=True)\n",
    "    svm.fit(X_train, y_train)\n",
    "    y_pred = svm.predict(X_test)\n",
    "    \n",
    "    print(f\"\\nKernel: {kernel}\")\n",
    "    print(\"Accuracy:\", accuracy_score(y_test, y_pred))\n",
    "    print(\"Confusion Matrix:\\n\", confusion_matrix(y_test, y_pred))\n",
    "    print(\"Classification Report:\\n\", classification_report(y_test, y_pred))\n",
    "\n"
   ]
  },
  {
   "cell_type": "markdown",
   "id": "72425e0a",
   "metadata": {},
   "source": [
    "### Hyperparameter Tuning for MLP Classifier\n",
    "\n",
    "We use **GridSearchCV** to tune the `alpha` hyperparameter of the **MLPClassifier** (Multi-layer Perceptron), performing cross-validation with 5 folds. The model is then trained with the best parameter found.\n",
    "\n",
    "We define and initialize several MLP models with different network architectures and activation functions:\n",
    "- Simple model with 10 neurons and `Sigmoid`\n",
    "- Deep model with 64-32-16 neurons and `Sigmoid`\n",
    "- Simple model with 10 neurons and `ReLU`\n",
    "- Deep model with 64-32-16 neurons and `ReLU`\n"
   ]
  },
  {
   "cell_type": "code",
   "execution_count": 14,
   "id": "9da7334e",
   "metadata": {},
   "outputs": [
    {
     "name": "stdout",
     "output_type": "stream",
     "text": [
      "Fitting 5 folds for each of 3 candidates, totalling 15 fits\n",
      "\n",
      "Best Parameters: {'alpha': 0.001}\n"
     ]
    },
    {
     "name": "stderr",
     "output_type": "stream",
     "text": [
      "d:\\Web_learning\\js_Elzero\\.venv\\Lib\\site-packages\\sklearn\\neural_network\\_multilayer_perceptron.py:691: ConvergenceWarning: Stochastic Optimizer: Maximum iterations (200) reached and the optimization hasn't converged yet.\n",
      "  warnings.warn(\n"
     ]
    }
   ],
   "source": [
    "\n",
    "\n",
    "param_grid = {\n",
    "    'alpha': [0.0001, 0.001, 0.01],  \n",
    "}\n",
    "\n",
    "grid_search = GridSearchCV(MLPClassifier(), param_grid, cv=5, n_jobs=-1, verbose=2, scoring='accuracy')\n",
    "\n",
    "grid_search.fit(X_train, y_train)\n",
    "\n",
    "print(f\"\\nBest Parameters: {grid_search.best_params_}\")\n",
    "aplha=grid_search.best_params_['alpha']\n",
    "\n",
    "models = {\n",
    "    \"Simple (10 neurons, Sigmoid)\": MLPClassifier(hidden_layer_sizes=(10,), activation='logistic', max_iter=1000, random_state=42, learning_rate_init=aplha),\n",
    "    \"Deep (64-32-16 neurons, Sigmoid)\": MLPClassifier(hidden_layer_sizes=(64, 32, 16), activation='logistic', max_iter=1000, random_state=42, learning_rate_init=aplha),\n",
    "    \"Simple (10 neurons, ReLU)\": MLPClassifier(hidden_layer_sizes=(10,), activation='relu', max_iter=1000, random_state=42, learning_rate_init=aplha),\n",
    "    \"Deep (64-32-16 neurons, ReLU)\": MLPClassifier(hidden_layer_sizes=(64, 32, 16), activation='relu', max_iter=1000, random_state=42, learning_rate_init=aplha),\n",
    "}\n"
   ]
  },
  {
   "cell_type": "markdown",
   "id": "2a8cd0d1",
   "metadata": {},
   "source": [
    "### Training and Evaluating MLP Models\n",
    "\n",
    "We train each MLP model defined earlier and evaluate them on the test set. For each model:\n",
    "- Accuracy and classification report are printed.\n",
    "- 5-fold cross-validation is performed using the full scaled dataset.\n",
    "- Mean cross-validation accuracy is also reported.\n"
   ]
  },
  {
   "cell_type": "code",
   "execution_count": 17,
   "id": "1db0470e",
   "metadata": {},
   "outputs": [
    {
     "name": "stdout",
     "output_type": "stream",
     "text": [
      "\n",
      "Training model: Simple (10 neurons, Sigmoid)\n",
      "Accuracy: 0.9415\n",
      "Classification Report:\n",
      "              precision    recall  f1-score   support\n",
      "\n",
      "           0       0.95      0.96      0.95       108\n",
      "           1       0.93      0.90      0.92        63\n",
      "\n",
      "    accuracy                           0.94       171\n",
      "   macro avg       0.94      0.93      0.94       171\n",
      "weighted avg       0.94      0.94      0.94       171\n",
      "\n",
      "Cross-validation scores (5-fold): [0.90350877 0.94736842 0.95614035 0.95614035 0.96460177]\n",
      "Mean cross-validation accuracy: 0.9456\n",
      "\n",
      "Training model: Deep (64-32-16 neurons, Sigmoid)\n",
      "Accuracy: 0.9708\n",
      "Classification Report:\n",
      "              precision    recall  f1-score   support\n",
      "\n",
      "           0       0.98      0.97      0.98       108\n",
      "           1       0.95      0.97      0.96        63\n",
      "\n",
      "    accuracy                           0.97       171\n",
      "   macro avg       0.97      0.97      0.97       171\n",
      "weighted avg       0.97      0.97      0.97       171\n",
      "\n",
      "Cross-validation scores (5-fold): [0.92105263 0.96491228 0.97368421 0.96491228 0.96460177]\n",
      "Mean cross-validation accuracy: 0.9578\n",
      "\n",
      "Training model: Simple (10 neurons, ReLU)\n",
      "Accuracy: 0.9474\n",
      "Classification Report:\n",
      "              precision    recall  f1-score   support\n",
      "\n",
      "           0       0.96      0.95      0.96       108\n",
      "           1       0.92      0.94      0.93        63\n",
      "\n",
      "    accuracy                           0.95       171\n",
      "   macro avg       0.94      0.95      0.94       171\n",
      "weighted avg       0.95      0.95      0.95       171\n",
      "\n",
      "Cross-validation scores (5-fold): [0.89473684 0.95614035 0.92982456 0.94736842 0.94690265]\n",
      "Mean cross-validation accuracy: 0.9350\n",
      "\n",
      "Training model: Deep (64-32-16 neurons, ReLU)\n",
      "Accuracy: 0.9766\n",
      "Classification Report:\n",
      "              precision    recall  f1-score   support\n",
      "\n",
      "           0       0.99      0.97      0.98       108\n",
      "           1       0.95      0.98      0.97        63\n",
      "\n",
      "    accuracy                           0.98       171\n",
      "   macro avg       0.97      0.98      0.98       171\n",
      "weighted avg       0.98      0.98      0.98       171\n",
      "\n",
      "Cross-validation scores (5-fold): [0.92105263 0.94736842 0.97368421 0.96491228 0.96460177]\n",
      "Mean cross-validation accuracy: 0.9543\n"
     ]
    }
   ],
   "source": [
    "\n",
    "results = {}\n",
    "\n",
    "for name, model in models.items():\n",
    "    print(f\"\\nTraining model: {name}\")\n",
    "    \n",
    "    model.fit(X_train, y_train)\n",
    "    \n",
    "    y_pred = model.predict(X_test)\n",
    "    \n",
    "    acc = accuracy_score(y_test, y_pred)\n",
    "    results[name] = acc\n",
    "    \n",
    "    print(f\"Accuracy: {acc:.4f}\")\n",
    "    print(\"Classification Report:\")\n",
    "    print(classification_report(y_test, y_pred))\n",
    "\n",
    "    cv_scores = cross_val_score(model, X_scaled, y, cv=5, scoring='accuracy')\n",
    "    print(f\"Cross-validation scores (5-fold): {cv_scores}\")\n",
    "    print(f\"Mean cross-validation accuracy: {cv_scores.mean():.4f}\")"
   ]
  },
  {
   "cell_type": "markdown",
   "id": "cd0b7a7e",
   "metadata": {},
   "source": [
    "### Visualizing Loss Curves of MLP Models\n",
    "\n",
    "Each MLP model's training loss curve is plotted to observe convergence behavior across epochs. This helps us evaluate:\n",
    "- How well each model is learning.\n",
    "- Whether the models are underfitting or overfitting.\n"
   ]
  },
  {
   "cell_type": "code",
   "execution_count": 18,
   "id": "1efacec5",
   "metadata": {},
   "outputs": [
    {
     "data": {
      "image/png": "[encoded data removed]",
      "text/plain": [
       "<Figure size 1000x600 with 1 Axes>"
      ]
     },
     "metadata": {},
     "output_type": "display_data"
    }
   ],
   "source": [
    "\n",
    "\n",
    "plt.figure(figsize=(10, 6))\n",
    "\n",
    "for name, model in models.items():\n",
    "    model.fit(X_train, y_train)\n",
    "    plt.plot(model.loss_curve_, label=name)\n",
    "\n",
    "plt.title(\"Loss Curve (Neural Network Models)\")\n",
    "plt.xlabel(\"Epochs\")\n",
    "plt.ylabel(\"Loss\")\n",
    "plt.legend()\n",
    "plt.grid(True)\n",
    "plt.tight_layout()\n",
    "plt.show()\n"
   ]
  }
 ],
 "metadata": {
  "kernelspec": {
   "display_name": ".venv",
   "language": "python",
   "name": "python3"
  },
  "language_info": {
   "codemirror_mode": {
    "name": "ipython",
    "version": 3
   },
   "file_extension": ".py",
   "mimetype": "text/x-python",
   "name": "python",
   "nbconvert_exporter": "python",
   "pygments_lexer": "ipython3",
   "version": "3.11.9"
  }
 },
 "nbformat": 4,
 "nbformat_minor": 5
}
